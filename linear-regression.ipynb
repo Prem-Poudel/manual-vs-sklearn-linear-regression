{
 "cells": [
  {
   "cell_type": "markdown",
   "metadata": {},
   "source": [
    "# California Housing Prices: Linear Model"
   ]
  },
  {
   "cell_type": "markdown",
   "metadata": {},
   "source": [
    "## Problem Statement"
   ]
  },
  {
   "cell_type": "markdown",
   "metadata": {},
   "source": [
    "Predicting house prices in California is an important task for understanding the real estate market. It s beneficial for buyers, sellers, and policymakers for better decision. This project aims to develop a predictive model to estimate the house price in California based on features like house age, income, rooms and etc.\n",
    "\n",
    "The goal is to use two approach:\n",
    "- `Using Scikit-learn's Linear Regression`: Train a machine learning model to learn patterns form the data and predict house prices.\n",
    "- `Using Regression Formula`: Manually compute the prediction using the normal equation for linear regresison to verify the results.\n",
    "\n",
    "Finally, we will compare and evaluate the performance of both methods to ensure accuracy and consistency."
   ]
  },
  {
   "cell_type": "markdown",
   "metadata": {},
   "source": [
    "## Goal"
   ]
  },
  {
   "cell_type": "markdown",
   "metadata": {},
   "source": [
    "The objective of this project is to provide an understanding and practical implementation of linear regression in machine learning. It will cover key concepts such as matrix multiplication, the least squares method, and more. By completing this project, you will gain hands-on experience with using scikit-learn's linear regression module, as well as writing custom code to calculate linear regression manually."
   ]
  },
  {
   "cell_type": "markdown",
   "metadata": {},
   "source": [
    "## Mathematical Background"
   ]
  },
  {
   "cell_type": "markdown",
   "metadata": {},
   "source": [
    "**Linear Regression Overview**\n",
    "\n",
    "\\\n",
    "The linear regression (multiple) is the mathematical relationship between the dependent variable and all other relevent independent variables (factor) affecting the dependent variable jointly. It provides valuable insights for prediction and data analysis. The objective is to find the best fitting line (or hyperplane) that minimizes is predicting dependent variable from independent variables.\n",
    "\n",
    "\\\n",
    "**Equation of Linear Regression**\n",
    "\n",
    "\\\n",
    "The equation for the linear regression can be written as: \n",
    "\n",
    "\\\n",
    " **$\\hat{y}$ = X.$\\beta$ + $\\epsilon$**      -- (1)\n",
    "\n",
    "\\\n",
    "Where:\n",
    "- $\\hat{y}$: Predicted values\n",
    "- X: Matrix of input features\n",
    "- $\\beta$: Coefficients(weights)\n",
    "- $\\epsilon$: Error term\n",
    "\n",
    "\\\n",
    "Any equation in the above form is reffered to as a linear model.\n",
    "\n",
    "\\\n",
    "**Normal Equation (Least Square Method)**\n",
    "\n",
    "\\\n",
    "The optimal coefficients $\\beta$ are computed by minimizing the sum of squared errors. Using the normal equation, $\\beta$ is calculated as:\n",
    "\n",
    "**$\\beta$ = (X^T.X)^{-1}X^T.y**\n",
    "\n",
    "\\\n",
    "Where: \n",
    "- ( X^T \\): Transpose of \\( X \\)\n",
    "- ( (X^T X)^{-1} \\): Inverse of \\( X^T X \\)\n",
    "\n",
    "\n"
   ]
  },
  {
   "cell_type": "markdown",
   "metadata": {},
   "source": [
    "## Basic imports"
   ]
  },
  {
   "cell_type": "code",
   "execution_count": 1,
   "metadata": {},
   "outputs": [],
   "source": [
    "# Basic imports\n",
    "import pandas as pd\n",
    "import numpy as np\n",
    "from sklearn.preprocessing import StandardScaler\n",
    "from sklearn.linear_model import LinearRegression\n",
    "from sklearn.model_selection import train_test_split\n",
    "from sklearn.metrics import mean_squared_error, r2_score"
   ]
  },
  {
   "cell_type": "markdown",
   "metadata": {},
   "source": [
    "## Load Dataset"
   ]
  },
  {
   "cell_type": "code",
   "execution_count": 2,
   "metadata": {},
   "outputs": [
    {
     "name": "stdout",
     "output_type": "stream",
     "text": [
      "   longitude  latitude  housing_median_age  total_rooms  total_bedrooms  \\\n",
      "0    -122.23     37.88                41.0        880.0           129.0   \n",
      "1    -122.22     37.86                21.0       7099.0          1106.0   \n",
      "2    -122.24     37.85                52.0       1467.0           190.0   \n",
      "3    -122.25     37.85                52.0       1274.0           235.0   \n",
      "4    -122.25     37.85                52.0       1627.0           280.0   \n",
      "\n",
      "   population  households  median_income  median_house_value ocean_proximity  \n",
      "0       322.0       126.0         8.3252            452600.0        NEAR BAY  \n",
      "1      2401.0      1138.0         8.3014            358500.0        NEAR BAY  \n",
      "2       496.0       177.0         7.2574            352100.0        NEAR BAY  \n",
      "3       558.0       219.0         5.6431            341300.0        NEAR BAY  \n",
      "4       565.0       259.0         3.8462            342200.0        NEAR BAY  \n"
     ]
    }
   ],
   "source": [
    "file_path = 'dataset/housing.csv'\n",
    "df = pd.read_csv(file_path)\n",
    "print(df.head())"
   ]
  },
  {
   "cell_type": "code",
   "execution_count": 3,
   "metadata": {},
   "outputs": [
    {
     "name": "stdout",
     "output_type": "stream",
     "text": [
      "<class 'pandas.core.frame.DataFrame'>\n",
      "RangeIndex: 20640 entries, 0 to 20639\n",
      "Data columns (total 10 columns):\n",
      " #   Column              Non-Null Count  Dtype  \n",
      "---  ------              --------------  -----  \n",
      " 0   longitude           20640 non-null  float64\n",
      " 1   latitude            20640 non-null  float64\n",
      " 2   housing_median_age  20640 non-null  float64\n",
      " 3   total_rooms         20640 non-null  float64\n",
      " 4   total_bedrooms      20433 non-null  float64\n",
      " 5   population          20640 non-null  float64\n",
      " 6   households          20640 non-null  float64\n",
      " 7   median_income       20640 non-null  float64\n",
      " 8   median_house_value  20640 non-null  float64\n",
      " 9   ocean_proximity     20640 non-null  object \n",
      "dtypes: float64(9), object(1)\n",
      "memory usage: 1.6+ MB\n"
     ]
    }
   ],
   "source": [
    "df.info()"
   ]
  },
  {
   "cell_type": "code",
   "execution_count": 4,
   "metadata": {},
   "outputs": [
    {
     "data": {
      "text/plain": [
       "longitude               0\n",
       "latitude                0\n",
       "housing_median_age      0\n",
       "total_rooms             0\n",
       "total_bedrooms        207\n",
       "population              0\n",
       "households              0\n",
       "median_income           0\n",
       "median_house_value      0\n",
       "ocean_proximity         0\n",
       "dtype: int64"
      ]
     },
     "execution_count": 4,
     "metadata": {},
     "output_type": "execute_result"
    }
   ],
   "source": [
    "df.isna().sum()"
   ]
  },
  {
   "cell_type": "markdown",
   "metadata": {},
   "source": [
    "## Data Preprocessing"
   ]
  },
  {
   "cell_type": "code",
   "execution_count": 5,
   "metadata": {},
   "outputs": [],
   "source": [
    "df[\"total_bedrooms\"] = df[\"total_bedrooms\"].fillna(df[\"total_bedrooms\"].median())"
   ]
  },
  {
   "cell_type": "code",
   "execution_count": 6,
   "metadata": {},
   "outputs": [
    {
     "name": "stdout",
     "output_type": "stream",
     "text": [
      "X shape:  20640\n",
      "y shape:  20640\n"
     ]
    }
   ],
   "source": [
    "feature_cols = [\"housing_median_age\", \"total_rooms\", \"total_bedrooms\", \"median_income\"]\n",
    "target_col = \"median_house_value\"\n",
    "\n",
    "X = df[feature_cols]\n",
    "y = df[target_col]\n",
    "\n",
    "print(\"X shape: \", X.shape[0])\n",
    "print(\"y shape: \", y.shape[0])"
   ]
  },
  {
   "cell_type": "code",
   "execution_count": 7,
   "metadata": {},
   "outputs": [],
   "source": [
    "# Split the data into train and test\n",
    "X_train, X_test, y_train, y_test = train_test_split(X, y,test_size = 0.2, random_state=42)"
   ]
  },
  {
   "cell_type": "code",
   "execution_count": 8,
   "metadata": {},
   "outputs": [
    {
     "name": "stdout",
     "output_type": "stream",
     "text": [
      "Scaling Features...\n",
      "Scaling Complete.\n"
     ]
    }
   ],
   "source": [
    "# scaling the data using Standardscaler\n",
    "print(\"Scaling Features...\")\n",
    "scaler = StandardScaler()\n",
    "X_trained_scaled = scaler.fit_transform(X_train)\n",
    "X_test_scaled = scaler.transform(X_test)\n",
    "print('Scaling Complete.')"
   ]
  },
  {
   "cell_type": "markdown",
   "metadata": {},
   "source": [
    "## Implementing Formula Based Linear Regression"
   ]
  },
  {
   "cell_type": "code",
   "execution_count": 9,
   "metadata": {},
   "outputs": [
    {
     "name": "stdout",
     "output_type": "stream",
     "text": [
      "Manual MSE: 6356567901.161346\n",
      "Manual R²: 0.5149172505140771\n"
     ]
    }
   ],
   "source": [
    "# a function that add a bias\n",
    "def add_bias(data):\n",
    "    return np.c_[np.ones(data.shape[0]), data]\n",
    "\n",
    "# let's add bias column for both x train and x test\n",
    "X_train_bias = add_bias(X_trained_scaled)\n",
    "X_test_bias = add_bias(X_test_scaled)\n",
    "\n",
    "# findng coefficient:\n",
    "def find_beta(A,Y):\n",
    "    A_t = A.T\n",
    "    return np.linalg.inv(A_t @ A) @ A_t @ Y    # @ represents dot product. \n",
    "\n",
    "# beta = (X_T*X)-1*X_T*Y\n",
    "beta = find_beta(X_train_bias, y_train)\n",
    "\n",
    "# predicting the result with self implemented model:\n",
    "y_pred_manual = X_test_bias @ beta\n",
    "\n",
    "#eval\n",
    "mse_manual = mean_squared_error(y_test, y_pred_manual)\n",
    "r2_manual = r2_score(y_test, y_pred_manual)\n",
    "\n",
    "print(f\"Manual MSE: {mse_manual}\")\n",
    "print(f\"Manual R²: {r2_manual}\")    # alt +  0178 for R²"
   ]
  },
  {
   "cell_type": "markdown",
   "metadata": {},
   "source": [
    "## Training scikit-learn Linear Regression Model "
   ]
  },
  {
   "cell_type": "code",
   "execution_count": 10,
   "metadata": {},
   "outputs": [
    {
     "name": "stdout",
     "output_type": "stream",
     "text": [
      "Sklearn MSE: 6356567901.161352\n",
      "Sklearn R²: 0.5149172505140767 \n"
     ]
    }
   ],
   "source": [
    "# init\n",
    "model = LinearRegression()\n",
    "\n",
    "# fit the model\n",
    "model.fit(X_trained_scaled, y_train)\n",
    "\n",
    "# predict\n",
    "y_pred_sklearn = model.predict(X_test_scaled)\n",
    "\n",
    "# eval\n",
    "mse_sklearn = mean_squared_error(y_test, y_pred_sklearn)\n",
    "r2_sklearn = r2_score(y_test, y_pred_sklearn)\n",
    "\n",
    "print(f\"Sklearn MSE: {mse_sklearn}\")\n",
    "print(f\"Sklearn R²: {r2_sklearn} \")"
   ]
  },
  {
   "cell_type": "markdown",
   "metadata": {},
   "source": [
    "## Comparing Formula-Based and scikit-learn Models"
   ]
  },
  {
   "cell_type": "code",
   "execution_count": 11,
   "metadata": {},
   "outputs": [
    {
     "name": "stdout",
     "output_type": "stream",
     "text": [
      "\n",
      "Comparison between Manual and Sklearn:\n",
      "Manual vs Sklearn MSE: 6356567901.161346 vs 6356567901.161352\n",
      "Manual vs Sklearn R²: 0.5149172505140771 vs 0.5149172505140767\n"
     ]
    }
   ],
   "source": [
    "# Compare the results from both approaches\n",
    "print(\"\\nComparison between Manual and Sklearn:\")\n",
    "print(f\"Manual vs Sklearn MSE: {mse_manual} vs {mse_sklearn}\")\n",
    "print(f\"Manual vs Sklearn R²: {r2_manual} vs {r2_sklearn}\")"
   ]
  },
  {
   "cell_type": "code",
   "execution_count": 12,
   "metadata": {},
   "outputs": [
    {
     "name": "stdout",
     "output_type": "stream",
     "text": [
      "Feature Importance from scikit-learn:\n",
      "              Feature  Coefficient (scikit-learn)\n",
      "3       median_income                94930.983691\n",
      "2      total_bedrooms                68121.514977\n",
      "0  housing_median_age                24497.741358\n",
      "1         total_rooms               -57874.639635\n"
     ]
    }
   ],
   "source": [
    "print(\"Feature Importance from scikit-learn:\")\n",
    "coefficients_sklearn = pd.DataFrame({\n",
    "    'Feature': X.columns,\n",
    "    'Coefficient (scikit-learn)': model.coef_\n",
    "})\n",
    "print(coefficients_sklearn.sort_values(by='Coefficient (scikit-learn)', ascending=False))"
   ]
  },
  {
   "cell_type": "code",
   "execution_count": 13,
   "metadata": {},
   "outputs": [
    {
     "name": "stdout",
     "output_type": "stream",
     "text": [
      "Feature Importance from manual:\n",
      "              Feature  Coefficient (manual)\n",
      "3       median_income          94930.983691\n",
      "2      total_bedrooms          68121.514977\n",
      "0  housing_median_age          24497.741358\n",
      "1         total_rooms         -57874.639635\n"
     ]
    }
   ],
   "source": [
    "print(\"Feature Importance from manual:\")\n",
    "coefficients_sklearn = pd.DataFrame({\n",
    "    'Feature': X.columns,\n",
    "    'Coefficient (manual)': beta[1:]\n",
    "})\n",
    "print(coefficients_sklearn.sort_values(by='Coefficient (manual)', ascending=False))"
   ]
  },
  {
   "cell_type": "markdown",
   "metadata": {},
   "source": [
    "## Conclusion"
   ]
  },
  {
   "cell_type": "markdown",
   "metadata": {},
   "source": [
    "\n",
    "In this project, we:\n",
    "- Discussed the mathematical foundation of linear regression, including the normal equation and least squares method.\n",
    "- Preprocessed the California Housing dataset by scaling the features.\n",
    "- Implemented **formula-based linear regression** to calculate coefficients manually.\n",
    "- Trained a **scikit-learn Linear Regression model** for comparison.\n",
    "- Evaluated both models using MSE and R² metrics, confirming they produce identical results.\n",
    "- Analyzed feature importance to understand the impact of each variable.\n",
    "\n",
    "This project bridges the gap between theory and practice in linear regression, providing a solid foundation for understanding more advanced machine learning models."
   ]
  }
 ],
 "metadata": {
  "kaggle": {
   "accelerator": "none",
   "dataSources": [
    {
     "datasetId": 5227,
     "sourceId": 7876,
     "sourceType": "datasetVersion"
    }
   ],
   "dockerImageVersionId": 30839,
   "isGpuEnabled": false,
   "isInternetEnabled": true,
   "language": "python",
   "sourceType": "notebook"
  },
  "kernelspec": {
   "display_name": "base",
   "language": "python",
   "name": "python3"
  },
  "language_info": {
   "codemirror_mode": {
    "name": "ipython",
    "version": 3
   },
   "file_extension": ".py",
   "mimetype": "text/x-python",
   "name": "python",
   "nbconvert_exporter": "python",
   "pygments_lexer": "ipython3",
   "version": "3.12.4"
  }
 },
 "nbformat": 4,
 "nbformat_minor": 4
}
